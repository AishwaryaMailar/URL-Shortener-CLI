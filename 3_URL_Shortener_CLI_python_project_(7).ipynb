{
  "nbformat": 4,
  "nbformat_minor": 0,
  "metadata": {
    "colab": {
      "provenance": []
    },
    "kernelspec": {
      "name": "python3",
      "display_name": "Python 3"
    },
    "language_info": {
      "name": "python"
    }
  },
  "cells": [
    {
      "cell_type": "code",
      "execution_count": null,
      "metadata": {
        "colab": {
          "base_uri": "https://localhost:8080/"
        },
        "id": "Lh8MfScbyX6V",
        "outputId": "c2c3ada9-12bc-4725-86fa-227ef2030314"
      },
      "outputs": [
        {
          "output_type": "stream",
          "name": "stdout",
          "text": [
            "Collecting pyshorteners\n",
            "  Downloading pyshorteners-1.0.1.tar.gz (10.0 kB)\n",
            "  Preparing metadata (setup.py) ... \u001b[?25l\u001b[?25hdone\n",
            "Requirement already satisfied: requests in /usr/local/lib/python3.11/dist-packages (from pyshorteners) (2.32.3)\n",
            "Requirement already satisfied: charset-normalizer<4,>=2 in /usr/local/lib/python3.11/dist-packages (from requests->pyshorteners) (3.4.1)\n",
            "Requirement already satisfied: idna<4,>=2.5 in /usr/local/lib/python3.11/dist-packages (from requests->pyshorteners) (3.10)\n",
            "Requirement already satisfied: urllib3<3,>=1.21.1 in /usr/local/lib/python3.11/dist-packages (from requests->pyshorteners) (2.4.0)\n",
            "Requirement already satisfied: certifi>=2017.4.17 in /usr/local/lib/python3.11/dist-packages (from requests->pyshorteners) (2025.4.26)\n",
            "Building wheels for collected packages: pyshorteners\n",
            "  Building wheel for pyshorteners (setup.py) ... \u001b[?25l\u001b[?25hdone\n",
            "  Created wheel for pyshorteners: filename=pyshorteners-1.0.1-py3-none-any.whl size=17479 sha256=142b6a435cfbdc9281a4eb7fe2fc98391272ed68fdc9e4431b63818688903e46\n",
            "  Stored in directory: /root/.cache/pip/wheels/40/25/54/000cc118ff192ee36c95b1374ee4c42d5d39143d940de5908a\n",
            "Successfully built pyshorteners\n",
            "Installing collected packages: pyshorteners\n",
            "Successfully installed pyshorteners-1.0.1\n"
          ]
        }
      ],
      "source": [
        "!pip install pyshorteners\n"
      ]
    },
    {
      "cell_type": "code",
      "source": [
        "import pyshorteners\n",
        "\n",
        "def shorten_url():\n",
        "    # Create an instance of the Shortener class\n",
        "    s = pyshorteners.Shortener()\n",
        "\n",
        "    # Take input URL from the user\n",
        "    long_url = input(\"Enter the URL to shorten: \")\n",
        "\n",
        "    try:\n",
        "        # Shorten the URL\n",
        "        short_url = s.tinyurl.short(long_url)\n",
        "        print(\"Shortened URL is:\", short_url)\n",
        "    except Exception as e:\n",
        "        print(\"Error:\", e)\n",
        "\n",
        "if __name__ == \"__main__\":\n",
        "    shorten_url()\n"
      ],
      "metadata": {
        "colab": {
          "base_uri": "https://localhost:8080/"
        },
        "id": "LPnXpeKPyfU2",
        "outputId": "0b4e1ef1-7691-448c-b42f-8417446bf56f"
      },
      "execution_count": null,
      "outputs": [
        {
          "output_type": "stream",
          "name": "stdout",
          "text": [
            "Enter the URL to shorten: https://www.google.com/maps/place/Beyond+Academics/@12.8813424,77.6097772,17z/data=!3m1!4b1!4m6!3m5!1s0x3bae158f0b5c25f1:0x343db7cafbd2d86a!8m2!3d12.8813424!4d77.6097772!16s%2Fg%2F11swxq1m7t?entry=ttu&g_ep=EgoyMDI1MDQyOS4wIKXMDSoASAFQAw%3D%3D\n",
            "Shortened URL is: https://tinyurl.com/2c7p8b7p\n"
          ]
        }
      ]
    }
  ]
}